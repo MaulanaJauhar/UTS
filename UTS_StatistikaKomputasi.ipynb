{
  "nbformat": 4,
  "nbformat_minor": 0,
  "metadata": {
    "colab": {
      "provenance": [],
      "toc_visible": true,
      "authorship_tag": "ABX9TyMWMow0oHfxiMxQT629dV5D",
      "include_colab_link": true
    },
    "kernelspec": {
      "name": "python3",
      "display_name": "Python 3"
    },
    "language_info": {
      "name": "python"
    }
  },
  "cells": [
    {
      "cell_type": "markdown",
      "metadata": {
        "id": "view-in-github",
        "colab_type": "text"
      },
      "source": [
        "<a href=\"https://colab.research.google.com/github/MaulanaJauhar/UTS/blob/main/UTS_StatistikaKomputasi.ipynb\" target=\"_parent\"><img src=\"https://colab.research.google.com/assets/colab-badge.svg\" alt=\"Open In Colab\"/></a>"
      ]
    },
    {
      "cell_type": "markdown",
      "source": [
        "NO 1"
      ],
      "metadata": {
        "id": "qKOMMWgOxjvE"
      }
    },
    {
      "cell_type": "markdown",
      "source": [
        "a"
      ],
      "metadata": {
        "id": "2-ZCuiJt1iyr"
      }
    },
    {
      "cell_type": "code",
      "execution_count": 1,
      "metadata": {
        "colab": {
          "base_uri": "https://localhost:8080/"
        },
        "id": "-Fu5QBZ3ph0c",
        "outputId": "4eec549f-1e6d-454f-ee5f-b018877773d5"
      },
      "outputs": [
        {
          "output_type": "stream",
          "name": "stdout",
          "text": [
            "Mean: 170.035\n",
            "Variance: 126.1588765887659\n",
            "Standard Deviation: 11.232046856595902\n"
          ]
        }
      ],
      "source": [
        "import pandas as pd\n",
        "\n",
        "data = pd.read_csv(\"pop1.csv\")\n",
        "table = data[\"height\"]\n",
        "\n",
        "mean = table.mean()\n",
        "variance = table.var()\n",
        "std_deviation = table.std()\n",
        "\n",
        "print(\"Mean:\", mean)\n",
        "print(\"Variance:\", variance)\n",
        "print(\"Standard Deviation:\", std_deviation)"
      ]
    },
    {
      "cell_type": "markdown",
      "source": [
        "b"
      ],
      "metadata": {
        "id": "NjyLL6Ai1j0I"
      }
    },
    {
      "cell_type": "code",
      "source": [
        "import pandas as pd\n",
        "import numpy as np\n",
        "\n",
        "data = pd.read_csv('pop1.csv')\n",
        "table = data['height']\n",
        "q1 = np.quantile(table, 0.25, method='midpoint')\n",
        "q2 = np.quantile(table, 0.5, method='midpoint')\n",
        "q3 = np.quantile(table, 0.75, method='midpoint')\n",
        "\n",
        "print(\"Q1:\", q1)\n",
        "print(\"Q2:\", q2)\n",
        "print(\"Q3:\", q3)"
      ],
      "metadata": {
        "colab": {
          "base_uri": "https://localhost:8080/"
        },
        "id": "iLNd540wqeTM",
        "outputId": "848bc351-ac15-4e44-e815-ee40ac0f41f7"
      },
      "execution_count": 3,
      "outputs": [
        {
          "output_type": "stream",
          "name": "stdout",
          "text": [
            "Q1: 162.0\n",
            "Q2: 170.0\n",
            "Q3: 178.0\n"
          ]
        }
      ]
    },
    {
      "cell_type": "markdown",
      "source": [
        "c"
      ],
      "metadata": {
        "id": "XljEL0SH1krX"
      }
    },
    {
      "cell_type": "code",
      "source": [
        "import pandas as pd\n",
        "import numpy as np\n",
        "\n",
        "data = pd.read_csv('pop1.csv')\n",
        "table = data['height']\n",
        "q1 = np.quantile(table, 0.25, method='midpoint')\n",
        "q3 = np.quantile(table, 0.75, method='midpoint')\n",
        "iqr = q3 - q1\n",
        "\n",
        "lower_bound = q1 - (1.5 * iqr)\n",
        "upper_bound = q3 + (1.5 * iqr)\n",
        "\n",
        "outliers = table[(table < lower_bound) | (table > upper_bound)]\n",
        "print(\"Outliers:\", outliers)"
      ],
      "metadata": {
        "colab": {
          "base_uri": "https://localhost:8080/"
        },
        "id": "myR9H4DTrKZx",
        "outputId": "bcecf32b-195e-41ba-c4fe-5afab516075d"
      },
      "execution_count": 5,
      "outputs": [
        {
          "output_type": "stream",
          "name": "stdout",
          "text": [
            "Outliers: 34       208\n",
            "59       205\n",
            "82       136\n",
            "93       117\n",
            "98       129\n",
            "        ... \n",
            "98956    137\n",
            "99078    127\n",
            "99103    210\n",
            "99494    137\n",
            "99538    136\n",
            "Name: height, Length: 304, dtype: int64\n"
          ]
        }
      ]
    },
    {
      "cell_type": "markdown",
      "source": [
        "No 2"
      ],
      "metadata": {
        "id": "OLXTHmrgxnAI"
      }
    },
    {
      "cell_type": "markdown",
      "source": [
        "a"
      ],
      "metadata": {
        "id": "DCQgEACT1meD"
      }
    },
    {
      "cell_type": "code",
      "source": [
        "import pandas as pd\n",
        "import matplotlib.pyplot as plt\n",
        "\n",
        "data = pd.read_csv('pop1.csv')\n",
        "table = data['height']\n",
        "\n",
        "plt.boxplot(table)\n",
        "plt.show()"
      ],
      "metadata": {
        "colab": {
          "base_uri": "https://localhost:8080/",
          "height": 430
        },
        "id": "zqF_1a6ksL3A",
        "outputId": "0ebcd2d6-99f8-4b03-e347-58eae6f6105b"
      },
      "execution_count": 6,
      "outputs": [
        {
          "output_type": "display_data",
          "data": {
            "text/plain": [
              "<Figure size 640x480 with 1 Axes>"
            ],
            "image/png": "[encoded data removed]"
          },
          "metadata": {}
        }
      ]
    },
    {
      "cell_type": "markdown",
      "source": [
        "b"
      ],
      "metadata": {
        "id": "VmA176T31nVK"
      }
    },
    {
      "cell_type": "code",
      "source": [
        "import pandas as pd\n",
        "import matplotlib.pyplot as plt\n",
        "\n",
        "data = pd.read_csv('pop1.csv')\n",
        "table = data['height']\n",
        "\n",
        "plt.hist(table, bins=100)\n",
        "plt.show()"
      ],
      "metadata": {
        "colab": {
          "base_uri": "https://localhost:8080/",
          "height": 430
        },
        "id": "cSkOsVJasQTJ",
        "outputId": "4bd111ea-3e7b-4a65-eb2f-e2da49ace087"
      },
      "execution_count": 7,
      "outputs": [
        {
          "output_type": "display_data",
          "data": {
            "text/plain": [
              "<Figure size 640x480 with 1 Axes>"
            ],
            "image/png": "[encoded data removed]"
          },
          "metadata": {}
        }
      ]
    },
    {
      "cell_type": "markdown",
      "source": [
        "No 3"
      ],
      "metadata": {
        "id": "HKoLMWQCxpvF"
      }
    },
    {
      "cell_type": "markdown",
      "source": [
        "a"
      ],
      "metadata": {
        "id": "0AHi2H5S1o23"
      }
    },
    {
      "cell_type": "code",
      "source": [],
      "metadata": {
        "id": "o9ZKaubTy7Cy"
      },
      "execution_count": null,
      "outputs": []
    },
    {
      "cell_type": "markdown",
      "source": [
        "b"
      ],
      "metadata": {
        "id": "LpyDYiLH1ppw"
      }
    },
    {
      "cell_type": "code",
      "source": [
        "import pandas as pd\n",
        "\n",
        "df = pd.read_csv('pop1.csv')\n",
        "\n",
        "total_orang = len(df)\n",
        "total_orang_tinggi = len(df[df['height'] > 175])\n",
        "\n",
        "peluang_orang_tinggi = total_orang_tinggi / total_orang\n",
        "\n",
        "print('Total orang dengan tinggi 175cm: ',total_orang_tinggi)\n",
        "print('Peluang orang dengan tinggi lebih dari 175cm:', peluang_orang_tinggi)"
      ],
      "metadata": {
        "colab": {
          "base_uri": "https://localhost:8080/"
        },
        "id": "_Yhk6VH3xiXc",
        "outputId": "547365bd-ebf9-411c-d98c-a0002336684f"
      },
      "execution_count": 16,
      "outputs": [
        {
          "output_type": "stream",
          "name": "stdout",
          "text": [
            "Total orang dengan tinggi 175cm:  31733\n",
            "Peluang orang dengan tinggi lebih dari 175cm: 0.31733\n"
          ]
        }
      ]
    },
    {
      "cell_type": "markdown",
      "source": [
        "No 4"
      ],
      "metadata": {
        "id": "u4QrTIYjxrA4"
      }
    },
    {
      "cell_type": "markdown",
      "source": [
        "a"
      ],
      "metadata": {
        "id": "WvRZ5OQe1qvJ"
      }
    },
    {
      "cell_type": "code",
      "source": [
        "import pandas as pd\n",
        "\n",
        "df = pd.read_csv('pop1.csv')\n",
        "jumlah_male = df[df['sex'] == 'MALE'].count()[0]\n",
        "jumlah_female = df[df['sex'] == 'FEMALE'].count()[0]\n",
        "jumlah_total = df.count()[0]\n",
        "\n",
        "peluang_male = jumlah_male / jumlah_total\n",
        "peluang_female = jumlah_female / jumlah_total\n",
        "\n",
        "print('Total Data: ',jumlah_total)\n",
        "print('Total MALE: ',jumlah_male)\n",
        "print('Peluang MALE:', peluang_male)\n",
        "print('Total FEMALE: ',jumlah_female)\n",
        "print('Peluang FEMALE:', peluang_female)"
      ],
      "metadata": {
        "colab": {
          "base_uri": "https://localhost:8080/"
        },
        "id": "RYwrHwH2vk3U",
        "outputId": "624c055d-a75b-4d8a-f57a-fe9642a7d90e"
      },
      "execution_count": 13,
      "outputs": [
        {
          "output_type": "stream",
          "name": "stdout",
          "text": [
            "Total Data:  100000\n",
            "Total MALE:  51112\n",
            "Peluang MALE: 0.51112\n",
            "Total FEMALE:  48888\n",
            "Peluang FEMALE: 0.48888\n"
          ]
        }
      ]
    },
    {
      "cell_type": "markdown",
      "source": [
        "b"
      ],
      "metadata": {
        "id": "pPTWVZY81rjZ"
      }
    },
    {
      "cell_type": "markdown",
      "source": [
        "Peluang terpilihnya 3 laki-laki dari 10 orang yang dipilih secara acak dapat dihitung dengan menggunakan rumus peluang binomial:\n",
        "\n",
        "dengan n = 10 (jumlah percobaan), k = 3 (jumlah keberhasilan), p = 0.5 (peluang keberhasilan dalam satu percobaan) dan q = 0.5 (peluang kegagalan dalam satu percobaan).\n",
        "\n",
        "Maka peluang terpilihnya 3 laki-laki dari 10 orang yang dipilih secara acak adalah:\n",
        "\n",
        "Sehingga peluang terpilihnya 3 laki-laki dari 10 orang yang dipilih secara acak adalah sekitar 0.117 atau 11.7%."
      ],
      "metadata": {
        "id": "cjhZQ6hSyMRy"
      }
    },
    {
      "cell_type": "markdown",
      "source": [
        "c"
      ],
      "metadata": {
        "id": "vg8KM3hm1sdf"
      }
    },
    {
      "cell_type": "code",
      "source": [
        "import matplotlib.pyplot as plt\n",
        "import scipy\n",
        "\n",
        "n = 10\n",
        "p = 0.5\n",
        "\n",
        "x = range(n+1)\n",
        "y = [scipy.special.comb(n, i) * p**i * (1-p)**(n-i) for i in x]\n",
        "\n",
        "plt.bar(x, y)\n",
        "plt.xlabel('Jumlah Laki-laki')\n",
        "plt.ylabel('Peluang')\n",
        "plt.title('Distribusi Terpilihnya Laki-laki')\n",
        "plt.show()"
      ],
      "metadata": {
        "colab": {
          "base_uri": "https://localhost:8080/",
          "height": 472
        },
        "id": "1-5u8YCiyN8M",
        "outputId": "cd10bc16-57c9-45ee-dbf2-e80ed95f7e41"
      },
      "execution_count": 14,
      "outputs": [
        {
          "output_type": "display_data",
          "data": {
            "text/plain": [
              "<Figure size 640x480 with 1 Axes>"
            ],
            "image/png": "[encoded data removed]"
          },
          "metadata": {}
        }
      ]
    }
  ]
}